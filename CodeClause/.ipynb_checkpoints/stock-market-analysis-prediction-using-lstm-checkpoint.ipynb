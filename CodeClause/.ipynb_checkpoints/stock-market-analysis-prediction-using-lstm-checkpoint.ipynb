{
 "cells": [
  {
   "cell_type": "code",
   "execution_count": 4,
   "id": "a54dcf5e",
   "metadata": {},
   "outputs": [
    {
     "name": "stdout",
     "output_type": "stream",
     "text": [
      "Collecting yfinance\n",
      "  Downloading yfinance-0.2.22-py2.py3-none-any.whl (63 kB)\n",
      "     -------------------------------------- 63.2/63.2 kB 375.5 kB/s eta 0:00:00\n",
      "Collecting pytz>=2022.5\n",
      "  Downloading pytz-2023.3-py2.py3-none-any.whl (502 kB)\n",
      "     ------------------------------------ 502.3/502.3 kB 583.8 kB/s eta 0:00:00\n",
      "Collecting html5lib>=1.1\n",
      "  Downloading html5lib-1.1-py2.py3-none-any.whl (112 kB)\n",
      "     ------------------------------------ 112.2/112.2 kB 465.4 kB/s eta 0:00:00\n",
      "Requirement already satisfied: numpy>=1.16.5 in c:\\users\\raj\\appdata\\local\\programs\\python\\python310\\lib\\site-packages (from yfinance) (1.23.1)\n",
      "Requirement already satisfied: requests>=2.26 in c:\\users\\raj\\appdata\\local\\programs\\python\\python310\\lib\\site-packages (from yfinance) (2.27.1)\n",
      "Collecting frozendict>=2.3.4\n",
      "  Downloading frozendict-2.3.8-cp310-cp310-win_amd64.whl (35 kB)\n",
      "Requirement already satisfied: lxml>=4.9.1 in c:\\users\\raj\\appdata\\roaming\\python\\python310\\site-packages (from yfinance) (4.9.1)\n",
      "Requirement already satisfied: pandas>=1.3.0 in c:\\users\\raj\\appdata\\local\\programs\\python\\python310\\lib\\site-packages (from yfinance) (1.5.3)\n",
      "Requirement already satisfied: beautifulsoup4>=4.11.1 in c:\\users\\raj\\appdata\\local\\programs\\python\\python310\\lib\\site-packages (from yfinance) (4.11.1)\n",
      "Collecting multitasking>=0.0.7\n",
      "  Downloading multitasking-0.0.11-py3-none-any.whl (8.5 kB)\n",
      "Collecting appdirs>=1.4.4\n",
      "  Downloading appdirs-1.4.4-py2.py3-none-any.whl (9.6 kB)\n",
      "Requirement already satisfied: soupsieve>1.2 in c:\\users\\raj\\appdata\\local\\programs\\python\\python310\\lib\\site-packages (from beautifulsoup4>=4.11.1->yfinance) (2.3.2.post1)\n",
      "Requirement already satisfied: webencodings in c:\\users\\raj\\appdata\\local\\programs\\python\\python310\\lib\\site-packages (from html5lib>=1.1->yfinance) (0.5.1)\n",
      "Requirement already satisfied: six>=1.9 in c:\\users\\raj\\appdata\\local\\programs\\python\\python310\\lib\\site-packages (from html5lib>=1.1->yfinance) (1.16.0)\n",
      "Requirement already satisfied: python-dateutil>=2.8.1 in c:\\users\\raj\\appdata\\local\\programs\\python\\python310\\lib\\site-packages (from pandas>=1.3.0->yfinance) (2.8.2)\n",
      "Requirement already satisfied: charset-normalizer~=2.0.0 in c:\\users\\raj\\appdata\\local\\programs\\python\\python310\\lib\\site-packages (from requests>=2.26->yfinance) (2.0.12)\n",
      "Requirement already satisfied: idna<4,>=2.5 in c:\\users\\raj\\appdata\\local\\programs\\python\\python310\\lib\\site-packages (from requests>=2.26->yfinance) (3.3)\n",
      "Requirement already satisfied: urllib3<1.27,>=1.21.1 in c:\\users\\raj\\appdata\\local\\programs\\python\\python310\\lib\\site-packages (from requests>=2.26->yfinance) (1.26.9)\n",
      "Requirement already satisfied: certifi>=2017.4.17 in c:\\users\\raj\\appdata\\local\\programs\\python\\python310\\lib\\site-packages (from requests>=2.26->yfinance) (2021.10.8)\n",
      "Installing collected packages: pytz, multitasking, appdirs, html5lib, frozendict, yfinance\n",
      "  Attempting uninstall: pytz\n",
      "    Found existing installation: pytz 2022.1\n",
      "    Uninstalling pytz-2022.1:\n",
      "      Successfully uninstalled pytz-2022.1\n",
      "Successfully installed appdirs-1.4.4 frozendict-2.3.8 html5lib-1.1 multitasking-0.0.11 pytz-2023.3 yfinance-0.2.22\n",
      "Note: you may need to restart the kernel to use updated packages.\n"
     ]
    },
    {
     "name": "stderr",
     "output_type": "stream",
     "text": [
      "\n",
      "[notice] A new release of pip is available: 23.0.1 -> 23.1.2\n",
      "[notice] To update, run: python.exe -m pip install --upgrade pip\n"
     ]
    }
   ],
   "source": [
    "pip install yfinance"
   ]
  },
  {
   "cell_type": "code",
   "execution_count": 5,
   "id": "d5a6cff6",
   "metadata": {},
   "outputs": [],
   "source": [
    "import pandas as pd\n",
    "import numpy as np\n",
    "import matplotlib.pyplot as plt\n",
    "import seaborn as sns\n",
    "from pandas_datareader import data as pdr\n",
    "import yfinance as yf\n",
    "from datetime import datetime"
   ]
  },
  {
   "cell_type": "code",
   "execution_count": null,
   "id": "a6a50a81",
   "metadata": {},
   "outputs": [],
   "source": [
    "# Set up matplotlib and seaborn\n",
    "sns.set_style('whitegrid')\n",
    "plt.style.use(\"fivethirtyeight\")\n",
    "%matplotlib inline\n",
    "\n",
    "# Set the start and end dates for data retrieval\n",
    "end = datetime.now()\n",
    "start = datetime(end.year - 1, end.month, end.day)\n",
    "\n",
    "# Define the list of tech stocks\n",
    "tech_list = ['AAPL', 'GOOG', 'MSFT', 'AMZN']"
   ]
  },
  {
   "cell_type": "code",
   "execution_count": null,
   "id": "8876575a",
   "metadata": {},
   "outputs": [],
   "source": [
    "# Download the stock data using pandas_datareader and yfinance\n",
    "yf.pdr_override()\n",
    "company_list = []\n",
    "for stock in tech_list:\n",
    "    data = pdr.get_data_yahoo(stock, start, end)\n",
    "    data[\"Company\"] = stock\n",
    "    company_list.append(data)"
   ]
  },
  {
   "cell_type": "code",
   "execution_count": null,
   "id": "5df2de2a",
   "metadata": {},
   "outputs": [],
   "source": [
    "# Concatenate the stock data into a single DataFrame\n",
    "df = pd.concat(company_list)"
   ]
  },
  {
   "cell_type": "code",
   "execution_count": null,
   "id": "b29dd2c8",
   "metadata": {},
   "outputs": [],
   "source": [
    "# Function to plot closing prices for each company\n",
    "def plot_closing_prices(company_list):\n",
    "    fig, axes = plt.subplots(nrows=2, ncols=2, figsize=(15, 10))\n",
    "    for i, company in enumerate(company_list):\n",
    "        ax = axes[i // 2, i % 2]\n",
    "        company.plot(y='Adj Close', ax=ax)\n",
    "        ax.set_xlabel(None)\n",
    "        ax.set_ylabel('Adj Close')\n",
    "        ax.set_title(f\"Closing Price of {company['Company'].iloc[0]}\")\n",
    "    plt.tight_layout()\n",
    "    plt.show()"
   ]
  },
  {
   "cell_type": "code",
   "execution_count": null,
   "id": "1aaa0422",
   "metadata": {},
   "outputs": [],
   "source": [
    "# Plot closing prices for each company\n",
    "plot_closing_prices(company_list)\n"
   ]
  },
  {
   "cell_type": "code",
   "execution_count": null,
   "id": "36503fe4",
   "metadata": {},
   "outputs": [],
   "source": [
    "# Function to plot sales volume for each company\n",
    "def plot_sales_volume(company_list):\n",
    "    fig, axes = plt.subplots(nrows=2, ncols=2, figsize=(15, 10))\n",
    "    for i, company in enumerate(company_list):\n",
    "        ax = axes[i // 2, i % 2]\n",
    "        company.plot(y='Volume', ax=ax)\n",
    "        ax.set_xlabel(None)\n",
    "        ax.set_ylabel('Volume')\n",
    "        ax.set_title(f\"Sales Volume for {company['Company'].iloc[0]}\")\n",
    "    plt.tight_layout()\n",
    "    plt.show()"
   ]
  },
  {
   "cell_type": "code",
   "execution_count": null,
   "id": "25e29a63",
   "metadata": {},
   "outputs": [],
   "source": [
    "# Plot sales volume for each company\n",
    "plot_sales_volume(company_list)"
   ]
  },
  {
   "cell_type": "code",
   "execution_count": null,
   "id": "6e68a332",
   "metadata": {},
   "outputs": [],
   "source": [
    "# Function to calculate and plot moving averages for each company\n",
    "def plot_moving_averages(company_list, ma_days=[10, 20, 50]):\n",
    "    fig, axes = plt.subplots(nrows=2, ncols=2, figsize=(15, 10))\n",
    "    for i, company in enumerate(company_list):\n",
    "        ax = axes[i // 2, i % 2]\n",
    "        company['MA for 10 days'] = company['Adj Close'].rolling(10).mean()\n",
    "        company['MA for 20 days'] = company['Adj Close'].rolling(20).mean()\n",
    "        company['MA for 50 days'] = company['Adj Close'].rolling(50).mean()\n",
    "        company[['Adj Close', 'MA for 10 days', 'MA for 20 days', 'MA for 50 days']].plot(ax=ax)\n",
    "        ax.set_xlabel(None)\n",
    "        ax.set_ylabel('Price')\n",
    "        ax.set_title(f\"Moving Averages for {company['Company'].iloc[0]}\")\n",
    "        ax.legend()\n",
    "    plt.tight_layout()\n",
    "    plt.show()"
   ]
  },
  {
   "cell_type": "code",
   "execution_count": null,
   "id": "b52259fa",
   "metadata": {},
   "outputs": [],
   "source": [
    "# Plot moving averages for each company\n",
    "plot_moving_averages(company_list)"
   ]
  },
  {
   "cell_type": "code",
   "execution_count": null,
   "id": "6638d1f3",
   "metadata": {},
   "outputs": [],
   "source": [
    "# Function to calculate and plot daily returns for each company\n",
    "def plot_daily_returns(company_list):\n",
    "    fig, axes = plt.subplots(nrows=2, ncols=2, figsize=(15, 10))\n",
    "    for i, company in enumerate(company_list):\n",
    "        ax = axes[i // 2, i % 2]\n",
    "        company['Daily Return'] = company['Adj Close'].pct_change()\n",
    "        company['Daily Return'].plot(ax=ax, legend=True, linestyle='--', marker='o')\n",
    "        ax.set_xlabel(None)\n",
    "        ax.set_ylabel('Daily Return')\n",
    "        ax.set_title(f\"Daily Return for {company['Company'].iloc[0]}\")\n",
    "        ax.legend()\n",
    "    plt.tight_layout()\n",
    "    plt.show()"
   ]
  },
  {
   "cell_type": "code",
   "execution_count": null,
   "id": "23f663f4",
   "metadata": {},
   "outputs": [],
   "source": [
    "# Plot daily returns for each company\n",
    "plot_daily_returns(company_list)\n"
   ]
  },
  {
   "cell_type": "code",
   "execution_count": null,
   "id": "86631cd9",
   "metadata": {},
   "outputs": [],
   "source": [
    "# Function to calculate and plot correlation heatmaps\n",
    "def plot_correlation_heatmaps(df):\n",
    "    fig, axes = plt.subplots(nrows=1, ncols=2, figsize=(12, 10))\n",
    "    sns.heatmap(df['Adj Close'].corr(), annot=True, cmap='summer', ax=axes[0])\n",
    "    axes[0].set_title('Correlation of Stock Returns')\n",
    "    sns.heatmap(df['Adj Close'].corr(), annot=True, cmap='summer', ax=axes[1])\n",
    "    axes[1].set_title('Correlation of Stock Closing Prices')\n",
    "    plt.tight_layout()\n",
    "    plt.show()\n"
   ]
  },
  {
   "cell_type": "code",
   "execution_count": null,
   "id": "7cbcad99",
   "metadata": {},
   "outputs": [],
   "source": [
    "# Plot correlation heatmaps\n",
    "plot_correlation_heatmaps(df)"
   ]
  },
  {
   "cell_type": "code",
   "execution_count": null,
   "id": "cb4b11f0",
   "metadata": {},
   "outputs": [],
   "source": [
    "# Function to preprocess and prepare the data for LSTM training\n",
    "def prepare_lstm_data(dataset, training_data_ratio=0.95, lookback=60):\n",
    "    # Scale the data using MinMaxScaler\n",
    "    from sklearn.preprocessing import MinMaxScaler\n",
    "    scaler = MinMaxScaler(feature_range=(0, 1))\n",
    "    scaled_data = scaler.fit_transform(dataset)\n",
    "    \n",
    "    # Split the data into training and testing sets\n",
    "    training_data_len = int(np.ceil(len(dataset) * training_data_ratio))\n",
    "    train_data = scaled_data[:training_data_len, :]\n",
    "    test_data = scaled_data[training_data_len - lookback:, :]\n",
    "    \n",
    "    # Prepare the training data\n",
    "    x_train, y_train = [], []\n",
    "    for i in range(lookback, len(train_data)):\n",
    "        x_train.append(train_data[i - lookback: i, 0])\n",
    "        y_train.append(train_data[i, 0])\n",
    "    x_train, y_train = np.array(x_train), np.array(y_train)\n",
    "    x_train = np.reshape(x_train, (x_train.shape[0], x_train.shape[1], 1))\n",
    "    \n",
    "    # Prepare the testing data\n",
    "    x_test, y_test = [], []\n",
    "    for i in range(lookback, len(test_data)):\n",
    "        x_test.append(test_data[i - lookback: i, 0])\n",
    "        y_test.append(dataset[training_data_len + i, 0])\n",
    "    x_test, y_test = np.array(x_test), np.array(y_test)\n",
    "    x_test = np.reshape(x_test, (x_test.shape[0], x_test.shape[1], 1))\n",
    "    \n",
    "    return x_train, y_train, x_test, y_test, scaler"
   ]
  },
  {
   "cell_type": "code",
   "execution_count": null,
   "id": "47660800",
   "metadata": {},
   "outputs": [],
   "source": [
    "# Prepare the data for LSTM training\n",
    "dataset = df.filter(['Adj Close']).values\n",
    "x_train, y_train, x_test, y_test, scaler = prepare_lstm_data(dataset)\n",
    "\n",
    "# Build the LSTM model\n",
    "from keras.models import Sequential\n",
    "from keras.layers import Dense, LSTM\n",
    "model = Sequential()\n",
    "model.add(LSTM(128, return_sequences=True, input_shape=(x_train.shape[1], 1)))\n",
    "model.add(LSTM(64, return_sequences=False))\n",
    "model.add(Dense(25))\n",
    "model.add(Dense(1))\n",
    "model.compile(optimizer='adam', loss='mean_squared_error')"
   ]
  },
  {
   "cell_type": "code",
   "execution_count": null,
   "id": "c600dd35",
   "metadata": {},
   "outputs": [],
   "source": [
    "# Train the LSTM model\n",
    "model.fit(x_train, y_train, batch_size=1, epochs=1)"
   ]
  },
  {
   "cell_type": "code",
   "execution_count": null,
   "id": "fbfd0254",
   "metadata": {},
   "outputs": [],
   "source": [
    "# Function to make predictions using the trained LSTM model\n",
    "def make_predictions(model, x_test, scaler):\n",
    "    predictions = model.predict(x_test)\n",
    "    predictions = scaler.inverse_transform(predictions)\n",
    "    return predictions"
   ]
  },
  {
   "cell_type": "code",
   "execution_count": null,
   "id": "fcc25f8a",
   "metadata": {},
   "outputs": [],
   "source": [
    "# Make predictions using the LSTM model\n",
    "predictions = make_predictions(model, x_test, scaler)"
   ]
  },
  {
   "cell_type": "code",
   "execution_count": null,
   "id": "ff7eb45f",
   "metadata": {},
   "outputs": [],
   "source": [
    "# Function to calculate and display the root mean squared error (RMSE)\n",
    "def calculate_rmse(predictions, y_test):\n",
    "    rmse = np.sqrt(np.mean(((predictions - y_test) ** 2)))\n",
    "    print(\"Root Mean Squared Error (RMSE):\", rmse)"
   ]
  },
  {
   "cell_type": "code",
   "execution_count": null,
   "id": "e43323b2",
   "metadata": {},
   "outputs": [],
   "source": [
    "# Calculate and display the RMSE\n",
    "calculate_rmse(predictions, y_test)\n",
    "\n",
    "# Function to plot the predicted and actual closing prices\n",
    "def plot_predictions(y_test, predictions):\n",
    "    plt.figure(figsize=(16, 6))\n",
    "    plt.title('Model')\n",
    "    plt.xlabel('Date', fontsize=18)\n",
    "    plt.ylabel('Close Price USD ($)', fontsize=18)\n",
    "    plt.plot(y_test, label='Actual')\n",
    "    plt.plot(predictions, label='Predicted')\n",
    "    plt.legend(loc='lower right')\n",
    "    plt.show()"
   ]
  },
  {
   "cell_type": "code",
   "execution_count": null,
   "id": "5c47ef11",
   "metadata": {},
   "outputs": [],
   "source": [
    "# Plot the predicted and actual closing prices\n",
    "plot_predictions(y_test, predictions)"
   ]
  }
 ],
 "metadata": {
  "kernelspec": {
   "display_name": "Python 3 (ipykernel)",
   "language": "python",
   "name": "python3"
  },
  "language_info": {
   "codemirror_mode": {
    "name": "ipython",
    "version": 3
   },
   "file_extension": ".py",
   "mimetype": "text/x-python",
   "name": "python",
   "nbconvert_exporter": "python",
   "pygments_lexer": "ipython3",
   "version": "3.10.3"
  },
  "papermill": {
   "default_parameters": {},
   "duration": 212.249929,
   "end_time": "2023-01-31T12:56:57.092165",
   "environment_variables": {},
   "exception": null,
   "input_path": "__notebook__.ipynb",
   "output_path": "__notebook__.ipynb",
   "parameters": {},
   "start_time": "2023-01-31T12:53:24.842236",
   "version": "2.3.4"
  }
 },
 "nbformat": 4,
 "nbformat_minor": 5
}
