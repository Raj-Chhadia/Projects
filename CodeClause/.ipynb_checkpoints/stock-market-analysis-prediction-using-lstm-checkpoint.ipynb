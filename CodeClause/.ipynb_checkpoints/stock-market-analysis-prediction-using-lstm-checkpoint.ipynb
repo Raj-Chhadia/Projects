{
 "cells": [
  {
   "cell_type": "code",
   "execution_count": null,
   "id": "61cb2f08",
   "metadata": {},
   "outputs": [],
   "source": [
    "import pandas as pd\n",
    "import numpy as np\n",
    "import matplotlib.pyplot as plt\n",
    "import seaborn as sns\n",
    "from pandas_datareader import data as pdr\n",
    "import yfinance as yf\n",
    "from datetime import datetime\n",
    "\n",
    "# Set up matplotlib and seaborn\n",
    "sns.set_style('whitegrid')\n",
    "plt.style.use(\"fivethirtyeight\")\n",
    "%matplotlib inline\n",
    "\n",
    "# Set the start and end dates for data retrieval\n",
    "end = datetime.now()\n",
    "start = datetime(end.year - 1, end.month, end.day)\n",
    "\n",
    "# Define the list of tech stocks\n",
    "tech_list = ['AAPL', 'GOOG', 'MSFT', 'AMZN']"
   ]
  },
  {
   "cell_type": "code",
   "execution_count": null,
   "id": "a4c15431",
   "metadata": {},
   "outputs": [],
   "source": [
    "# Download the stock data using pandas_datareader and yfinance\n",
    "yf.pdr_override()\n",
    "company_list = []\n",
    "for stock in tech_list:\n",
    "    data = pdr.get_data_yahoo(stock, start, end)\n",
    "    data[\"Company\"] = stock\n",
    "    company_list.append(data)"
   ]
  },
  {
   "cell_type": "code",
   "execution_count": null,
   "id": "1ba1c73d",
   "metadata": {},
   "outputs": [],
   "source": [
    "# Concatenate the stock data into a single DataFrame\n",
    "df = pd.concat(company_list)"
   ]
  },
  {
   "cell_type": "code",
   "execution_count": null,
   "id": "c2c1a56d",
   "metadata": {},
   "outputs": [],
   "source": [
    "# Function to plot closing prices for each company\n",
    "def plot_closing_prices(company_list):\n",
    "    fig, axes = plt.subplots(nrows=2, ncols=2, figsize=(15, 10))\n",
    "    for i, company in enumerate(company_list):\n",
    "        ax = axes[i // 2, i % 2]\n",
    "        company.plot(y='Adj Close', ax=ax)\n",
    "        ax.set_xlabel(None)\n",
    "        ax.set_ylabel('Adj Close')\n",
    "        ax.set_title(f\"Closing Price of {company['Company'].iloc[0]}\")\n",
    "    plt.tight_layout()\n",
    "    plt.show()"
   ]
  },
  {
   "cell_type": "code",
   "execution_count": null,
   "id": "97d457b7",
   "metadata": {},
   "outputs": [],
   "source": [
    "# Plot closing prices for each company\n",
    "plot_closing_prices(company_list)\n"
   ]
  }
 ],
 "metadata": {
  "kernelspec": {
   "display_name": "Python 3 (ipykernel)",
   "language": "python",
   "name": "python3"
  },
  "language_info": {
   "codemirror_mode": {
    "name": "ipython",
    "version": 3
   },
   "file_extension": ".py",
   "mimetype": "text/x-python",
   "name": "python",
   "nbconvert_exporter": "python",
   "pygments_lexer": "ipython3",
   "version": "3.10.3"
  },
  "papermill": {
   "default_parameters": {},
   "duration": 212.249929,
   "end_time": "2023-01-31T12:56:57.092165",
   "environment_variables": {},
   "exception": null,
   "input_path": "__notebook__.ipynb",
   "output_path": "__notebook__.ipynb",
   "parameters": {},
   "start_time": "2023-01-31T12:53:24.842236",
   "version": "2.3.4"
  }
 },
 "nbformat": 4,
 "nbformat_minor": 5
}
